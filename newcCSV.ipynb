{
 "cells": [
  {
   "cell_type": "code",
   "execution_count": 1,
   "id": "8e21e6de",
   "metadata": {},
   "outputs": [],
   "source": [
    "from csv import reader"
   ]
  },
  {
   "cell_type": "code",
   "execution_count": 6,
   "id": "c339ad1d",
   "metadata": {},
   "outputs": [
    {
     "name": "stdout",
     "output_type": "stream",
     "text": [
      "['1', '2']\n",
      "<class 'list'>\n",
      "['2', '4']\n",
      "<class 'list'>\n",
      "['3', '5']\n",
      "<class 'list'>\n",
      "['4', '4']\n",
      "<class 'list'>\n",
      "['5', '2']\n",
      "<class 'list'>\n"
     ]
    }
   ],
   "source": [
    "with open(\"data.csv\",\"r\") as f :\n",
    "    csv_reader = reader(f)\n",
    "    next(csv_reader)\n",
    "    for i in csv_reader:\n",
    "        print(list(i))\n",
    "        print(type(li))"
   ]
  },
  {
   "cell_type": "code",
   "execution_count": null,
   "id": "9fae302a",
   "metadata": {},
   "outputs": [],
   "source": []
  }
 ],
 "metadata": {
  "kernelspec": {
   "display_name": "Python 3 (ipykernel)",
   "language": "python",
   "name": "python3"
  },
  "language_info": {
   "codemirror_mode": {
    "name": "ipython",
    "version": 3
   },
   "file_extension": ".py",
   "mimetype": "text/x-python",
   "name": "python",
   "nbconvert_exporter": "python",
   "pygments_lexer": "ipython3",
   "version": "3.9.6"
  }
 },
 "nbformat": 4,
 "nbformat_minor": 5
}
