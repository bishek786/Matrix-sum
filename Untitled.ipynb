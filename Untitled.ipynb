{
 "cells": [
  {
   "cell_type": "code",
   "execution_count": 28,
   "id": "3eea8fcb",
   "metadata": {},
   "outputs": [],
   "source": [
    "import numpy as np\n",
    "from csv import reader"
   ]
  },
  {
   "cell_type": "code",
   "execution_count": 29,
   "id": "68ec7b02",
   "metadata": {},
   "outputs": [],
   "source": [
    "matrix = []\n",
    "with open('data.csv') as file:\n",
    "    csv_reader = reader(file)\n",
    "    next(csv_reader)\n",
    "    for row in csv_reader:\n",
    "        mrow = np.array(list(row))\n",
    "        matrix.append(mrow.astype(int))\n",
    "matrix = np.array(matrix)"
   ]
  },
  {
   "cell_type": "code",
   "execution_count": 30,
   "id": "0dc1ebaa",
   "metadata": {},
   "outputs": [
    {
     "name": "stdout",
     "output_type": "stream",
     "text": [
      "[[1 2]\n",
      " [2 4]\n",
      " [3 5]\n",
      " [4 4]\n",
      " [5 2]]\n"
     ]
    }
   ],
   "source": [
    "print(matrix)"
   ]
  },
  {
   "cell_type": "code",
   "execution_count": 31,
   "id": "7854ae43",
   "metadata": {},
   "outputs": [],
   "source": [
    "xcol = matrix[:, 0]\n",
    "ycol = matrix[:, 1]"
   ]
  },
  {
   "cell_type": "code",
   "execution_count": 32,
   "id": "ce9ddaf4",
   "metadata": {},
   "outputs": [
    {
     "name": "stdout",
     "output_type": "stream",
     "text": [
      "3.0\n",
      "3.4\n"
     ]
    }
   ],
   "source": [
    "print(xcol.mean())\n",
    "print(ycol.mean())"
   ]
  },
  {
   "cell_type": "code",
   "execution_count": 33,
   "id": "c70b567a",
   "metadata": {},
   "outputs": [
    {
     "name": "stdout",
     "output_type": "stream",
     "text": [
      "[1 0 1 0 1]\n"
     ]
    }
   ],
   "source": [
    "print(np.mod(xcol,2))"
   ]
  },
  {
   "cell_type": "code",
   "execution_count": 34,
   "id": "0cd43f11",
   "metadata": {},
   "outputs": [
    {
     "name": "stdout",
     "output_type": "stream",
     "text": [
      "1.2000000000000002\n"
     ]
    }
   ],
   "source": [
    "print(np.std(ycol))"
   ]
  },
  {
   "cell_type": "code",
   "execution_count": 35,
   "id": "000f6a0c",
   "metadata": {},
   "outputs": [
    {
     "name": "stdout",
     "output_type": "stream",
     "text": [
      "[1 5]\n"
     ]
    }
   ],
   "source": [
    "xrange =  np.array([xcol.min(),xcol.max()])\n",
    "print(xrange)"
   ]
  },
  {
   "cell_type": "code",
   "execution_count": 36,
   "id": "d3dbdc2a",
   "metadata": {},
   "outputs": [
    {
     "name": "stdout",
     "output_type": "stream",
     "text": [
      "[2 5]\n"
     ]
    }
   ],
   "source": [
    "yrange = np.array([ycol.min(),ycol.max()])\n",
    "print(yrange)"
   ]
  },
  {
   "cell_type": "code",
   "execution_count": null,
   "id": "95dc7fc0",
   "metadata": {},
   "outputs": [],
   "source": []
  }
 ],
 "metadata": {
  "kernelspec": {
   "display_name": "Python 3 (ipykernel)",
   "language": "python",
   "name": "python3"
  },
  "language_info": {
   "codemirror_mode": {
    "name": "ipython",
    "version": 3
   },
   "file_extension": ".py",
   "mimetype": "text/x-python",
   "name": "python",
   "nbconvert_exporter": "python",
   "pygments_lexer": "ipython3",
   "version": "3.9.6"
  }
 },
 "nbformat": 4,
 "nbformat_minor": 5
}
